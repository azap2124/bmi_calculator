{
 "cells": [
  {
   "cell_type": "markdown",
   "id": "483cd1f7",
   "metadata": {},
   "source": [
    "# BMI Calculator"
   ]
  },
  {
   "cell_type": "code",
   "execution_count": 25,
   "id": "941443fc",
   "metadata": {},
   "outputs": [
    {
     "name": "stdout",
     "output_type": "stream",
     "text": [
      "Enter your name: Angel\n",
      "Enter your weight in pounds: 245\n",
      "Enter your weight in inches: 72\n",
      "33.22434413580247\n",
      "Angel, you are obese.\n"
     ]
    }
   ],
   "source": [
    "### BMI = (weight in pounds x 703) / (height in inches x height in inches)\n",
    "name = input('Enter your name: ')\n",
    "weight = int(input('Enter your weight in pounds: '))\n",
    "height = int(input('Enter your weight in inches: '))\n",
    "\n",
    "BMI = (weight * 703) / (height * height)\n",
    "\n",
    "print(BMI)\n",
    "\n",
    "if BMI>0: \n",
    "    if (BMI < 18.5):\n",
    "        print(name + ',you are underweight.')\n",
    "    elif (BMI <= 24.8):\n",
    "        print(name + ', you are normal weight.')\n",
    "    elif (BMI <= 29.9):\n",
    "        print(name + ', you are overweight.')\n",
    "    elif (BMI <= 34.9):\n",
    "        print (name + ', you are obese.')\n",
    "    elif (BMI <= 39.9):\n",
    "        print (name + ', you are severely obese.')\n",
    "    else:\n",
    "        print(name + ', you are morbidly obese.')\n",
    "else:\n",
    "    print('Enter valid input')"
   ]
  },
  {
   "cell_type": "code",
   "execution_count": null,
   "id": "7066de16",
   "metadata": {},
   "outputs": [],
   "source": []
  },
  {
   "cell_type": "code",
   "execution_count": null,
   "id": "8c801467",
   "metadata": {},
   "outputs": [],
   "source": []
  },
  {
   "cell_type": "code",
   "execution_count": null,
   "id": "07f9d65e",
   "metadata": {},
   "outputs": [],
   "source": []
  },
  {
   "cell_type": "code",
   "execution_count": null,
   "id": "a2d9e05e",
   "metadata": {},
   "outputs": [],
   "source": []
  },
  {
   "cell_type": "code",
   "execution_count": null,
   "id": "d5d3a9fc",
   "metadata": {},
   "outputs": [],
   "source": []
  },
  {
   "cell_type": "code",
   "execution_count": null,
   "id": "658bec0e",
   "metadata": {},
   "outputs": [],
   "source": []
  },
  {
   "cell_type": "code",
   "execution_count": null,
   "id": "e0ee8e1c",
   "metadata": {},
   "outputs": [],
   "source": []
  },
  {
   "cell_type": "code",
   "execution_count": null,
   "id": "be289ccd",
   "metadata": {},
   "outputs": [],
   "source": []
  }
 ],
 "metadata": {
  "kernelspec": {
   "display_name": "Python 3 (ipykernel)",
   "language": "python",
   "name": "python3"
  },
  "language_info": {
   "codemirror_mode": {
    "name": "ipython",
    "version": 3
   },
   "file_extension": ".py",
   "mimetype": "text/x-python",
   "name": "python",
   "nbconvert_exporter": "python",
   "pygments_lexer": "ipython3",
   "version": "3.11.4"
  }
 },
 "nbformat": 4,
 "nbformat_minor": 5
}
